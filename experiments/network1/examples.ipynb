{
 "cells": [
  {
   "cell_type": "markdown",
   "metadata": {},
   "source": [
    "# Network 1\n",
    "An experiment in implementing a network object"
   ]
  },
  {
   "cell_type": "code",
   "execution_count": 1,
   "metadata": {
    "collapsed": true
   },
   "outputs": [],
   "source": [
    "%matplotlib inline"
   ]
  },
  {
   "cell_type": "code",
   "execution_count": 2,
   "metadata": {
    "collapsed": false
   },
   "outputs": [],
   "source": [
    "import matplotlib.pyplot as plt\n",
    "import numpy as np\n",
    "import xarray as xr\n",
    "from path import path"
   ]
  },
  {
   "cell_type": "code",
   "execution_count": 3,
   "metadata": {
    "collapsed": false
   },
   "outputs": [
    {
     "name": "stdout",
     "output_type": "stream",
     "text": [
      "Conversion tests successful\n"
     ]
    }
   ],
   "source": [
    "import network\n",
    "import touchstone\n",
    "from touchstone import read_touchstone"
   ]
  },
  {
   "cell_type": "markdown",
   "metadata": {},
   "source": [
    "Import a Network object from an s2p file"
   ]
  },
  {
   "cell_type": "code",
   "execution_count": 11,
   "metadata": {
    "collapsed": false
   },
   "outputs": [
    {
     "data": {
      "text/plain": [
       "<network.Network at 0x2178df70208>"
      ]
     },
     "execution_count": 11,
     "metadata": {},
     "output_type": "execute_result"
    }
   ],
   "source": [
    "S2, A2 = read_touchstone(\"noises.s2p\")\n",
    "S2"
   ]
  },
  {
   "cell_type": "markdown",
   "metadata": {},
   "source": [
    "The dataset attribute contains a xarray Dataset containing the port parameters (matrix) [S, Z, or Y...], the correlation matrix (Cmatrix), port impedance vector (portimpedance)."
   ]
  },
  {
   "cell_type": "code",
   "execution_count": 12,
   "metadata": {
    "collapsed": false
   },
   "outputs": [
    {
     "data": {
      "text/plain": [
       "<xarray.Dataset>\n",
       "Dimensions:        (Freq: 49, i: 2, j: 2)\n",
       "Coordinates:\n",
       "  * Freq           (Freq) float64 2e+09 2.25e+09 2.5e+09 2.75e+09 3e+09 ...\n",
       "  * i              (i) int32 1 2\n",
       "  * j              (j) int32 1 2\n",
       "Data variables:\n",
       "    Cmatrix        (Freq, i, j) complex128 (2.76896436324e-22-1.83670992316e-40j) ...\n",
       "    portimpedance  int32 50\n",
       "    matrix         (Freq, i, j) complex128 (0.93679359303-0.131657753508j) ...\n",
       "Attributes:\n",
       "    unit: ('',)\n",
       "    networkkind: S\n",
       "    temperature: (290,)"
      ]
     },
     "execution_count": 12,
     "metadata": {},
     "output_type": "execute_result"
    }
   ],
   "source": [
    "S2.dataset"
   ]
  },
  {
   "cell_type": "markdown",
   "metadata": {},
   "source": [
    "Frequency points missing between the matrix and Cmatrix are indicated by nan.\n",
    "In this s2p file 2.25 GHz is missing from the Noise parameter data."
   ]
  },
  {
   "cell_type": "code",
   "execution_count": 18,
   "metadata": {
    "collapsed": false
   },
   "outputs": [
    {
     "data": {
      "text/plain": [
       "<xarray.DataArray 'Cmatrix' (Freq: 3)>\n",
       "array([  2.76896436e-22,              nan,   3.55765917e-22])\n",
       "Coordinates:\n",
       "  * Freq     (Freq) float64 2e+09 2.25e+09 2.5e+09\n",
       "    i        int32 1\n",
       "    j        int32 1"
      ]
     },
     "execution_count": 18,
     "metadata": {},
     "output_type": "execute_result"
    }
   ],
   "source": [
    "abs(S2.dataset.Cmatrix[:3,0,0])"
   ]
  },
  {
   "cell_type": "code",
   "execution_count": 19,
   "metadata": {
    "collapsed": false
   },
   "outputs": [
    {
     "data": {
      "text/plain": [
       "<matplotlib.legend.Legend at 0x2178cf36c50>"
      ]
     },
     "execution_count": 19,
     "metadata": {},
     "output_type": "execute_result"
    },
    {
     "data": {
      "image/png": "[encoded data removed]",
      "text/plain": [
       "<matplotlib.figure.Figure at 0x2178df731d0>"
      ]
     },
     "metadata": {},
     "output_type": "display_data"
    }
   ],
   "source": [
    "N = S2.noise_parameters()\n",
    "plt.plot(N.Freq/1e9, N.Fmin, \".-\", label=\"Fmin\")\n",
    "plt.axis(xmin=0, ymin=0)\n",
    "plt.legend()"
   ]
  },
  {
   "cell_type": "code",
   "execution_count": 20,
   "metadata": {
    "collapsed": false
   },
   "outputs": [
    {
     "data": {
      "text/plain": [
       "(0, 14.0, 5.0, 40.0)"
      ]
     },
     "execution_count": 20,
     "metadata": {},
     "output_type": "execute_result"
    },
    {
     "data": {
      "image/png": "[encoded data removed]",
      "text/plain": [
       "<matplotlib.figure.Figure at 0x2178dfa13c8>"
      ]
     },
     "metadata": {},
     "output_type": "display_data"
    },
    {
     "data": {
      "image/png": "[encoded data removed]",
      "text/plain": [
       "<matplotlib.figure.Figure at 0x2178e0e4be0>"
      ]
     },
     "metadata": {},
     "output_type": "display_data"
    }
   ],
   "source": [
    "plt.figure(1)\n",
    "plt.plot(S2.dataset.Freq/1e9, dB(S2.dataset.matrix[...,0,0]), label=\"S11\")\n",
    "plt.plot(S2.dataset.Freq/1e9, dB(S2.dataset.matrix[...,1,0]), label=\"S21\")\n",
    "plt.legend()\n",
    "plt.axis(xmin=0)\n",
    "plt.figure(2)\n",
    "plt.plot(S2.dataset.Freq/1e9, dB(S2.convert(\"Z\").dataset.matrix[...,0,0]), label=\"Z11\")\n",
    "plt.plot(S2.dataset.Freq/1e9, dB(S2.convert(\"Z\").dataset.matrix[...,1,0]), label=\"Z21\")\n",
    "plt.legend()\n",
    "plt.axis(xmin=0)"
   ]
  },
  {
   "cell_type": "code",
   "execution_count": null,
   "metadata": {
    "collapsed": true
   },
   "outputs": [],
   "source": []
  }
 ],
 "metadata": {
  "kernelspec": {
   "display_name": "Python 3",
   "language": "python",
   "name": "python3"
  },
  "language_info": {
   "codemirror_mode": {
    "name": "ipython",
    "version": 3
   },
   "file_extension": ".py",
   "mimetype": "text/x-python",
   "name": "python",
   "nbconvert_exporter": "python",
   "pygments_lexer": "ipython3",
   "version": "3.5.1"
  }
 },
 "nbformat": 4,
 "nbformat_minor": 0
}
